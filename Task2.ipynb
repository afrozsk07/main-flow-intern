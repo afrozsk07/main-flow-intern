{
  "metadata": {
    "kernelspec": {
      "name": "python",
      "display_name": "Python (Pyodide)",
      "language": "python"
    },
    "language_info": {
      "codemirror_mode": {
        "name": "python",
        "version": 3
      },
      "file_extension": ".py",
      "mimetype": "text/x-python",
      "name": "python",
      "nbconvert_exporter": "python",
      "pygments_lexer": "ipython3",
      "version": "3.8"
    }
  },
  "nbformat_minor": 4,
  "nbformat": 4,
  "cells": [
    {
      "cell_type": "code",
      "source": "# read CSV file\nimport pandas as pd\ndf = pd.read_csv('colors.csv')\nprint(df)",
      "metadata": {
        "trusted": true
      },
      "outputs": [
        {
          "name": "stdout",
          "text": "             Name      HEX               RGB\n0            Aqua  #00FFFF    rgb(0,100,100)\n1             NaN  #7FFFD4    rgb(50,100,83)\n2           Beige  #F5F5DC     rgb(96,96,86)\n3           Black  #000000        rgb(0,0,0)\n4            Blue  #0000FF      rgb(0,0,100)\n5           Brown  #A52A2A               NaN\n6       Chocolate      NaN     rgb(82,41,12)\n7         Crimson  #000000      rgb(86,8,24)\n8            Cyan  #00FFFF    rgb(0,100,100)\n9             NaN  #00008B       rgb(0,0,55)\n10  Deep Sky Blue  #000000     rgb(0,75,100)\n11           Gold  #FFD700     rgb(100,84,0)\n12           Gray  #BEBEBE     rgb(75,75,75)\n13          Green  #00FF00      rgb(0,100,0)\n14         Indigo  #000000      rgb(29,0,51)\n15          Ivory  #FFFFF0   rgb(100,100,94)\n16          Khaki  #F0E68C     rgb(94,90,55)\n17       Lavender      NaN     rgb(90,90,98)\n18     Light Blue  #ADD8E6               NaN\n19           Lime  #000000      rgb(0,100,0)\n20        Magenta  #FF00FF    rgb(100,0,100)\n21            NaN  #B03060     rgb(69,19,38)\n22            NaN  #191970     rgb(10,10,44)\n23      Navy Blue  #000080       rgb(0,0,50)\n24          Olive  #808000      rgb(50,50,0)\n25         Orange  #000000     rgb(100,65,0)\n26           Pink  #FFC0CB    rgb(100,75,80)\n27    Powder Blue  #B0E0E6     rgb(69,88,90)\n28         Purple      NaN     rgb(63,13,94)\n29            Red  #000000               NaN\n30     Royal Blue  #4169E1     rgb(25,41,88)\n31       Sky Blue  #000000     rgb(53,81,92)\n32     Slate Gray  #708090     rgb(44,50,56)\n33           Snow  #FFFAFA    rgb(100,98,98)\n34            NaN  #4682B4     rgb(27,51,71)\n35            NaN  #D2B48C     rgb(82,71,55)\n36         Violet  #EE82EE     rgb(93,51,93)\n37          White  #FFFFFF  rgb(100,100,100)\n38         Yellow  #000000    rgb(100,100,0)\n",
          "output_type": "stream"
        }
      ],
      "execution_count": 22
    },
    {
      "cell_type": "code",
      "source": "# checking for NULL values\nprint(\"checking NULL by-row\")\ndf.isnull()\n",
      "metadata": {
        "trusted": true
      },
      "outputs": [
        {
          "name": "stdout",
          "text": "checking NULL by-row\n",
          "output_type": "stream"
        },
        {
          "execution_count": 23,
          "output_type": "execute_result",
          "data": {
            "text/plain": "     Name    HEX    RGB\n0   False  False  False\n1    True  False  False\n2   False  False  False\n3   False  False  False\n4   False  False  False\n5   False  False   True\n6   False   True  False\n7   False  False  False\n8   False  False  False\n9    True  False  False\n10  False  False  False\n11  False  False  False\n12  False  False  False\n13  False  False  False\n14  False  False  False\n15  False  False  False\n16  False  False  False\n17  False   True  False\n18  False  False   True\n19  False  False  False\n20  False  False  False\n21   True  False  False\n22   True  False  False\n23  False  False  False\n24  False  False  False\n25  False  False  False\n26  False  False  False\n27  False  False  False\n28  False   True  False\n29  False  False   True\n30  False  False  False\n31  False  False  False\n32  False  False  False\n33  False  False  False\n34   True  False  False\n35   True  False  False\n36  False  False  False\n37  False  False  False\n38  False  False  False",
            "text/html": "<div>\n<style scoped>\n    .dataframe tbody tr th:only-of-type {\n        vertical-align: middle;\n    }\n\n    .dataframe tbody tr th {\n        vertical-align: top;\n    }\n\n    .dataframe thead th {\n        text-align: right;\n    }\n</style>\n<table border=\"1\" class=\"dataframe\">\n  <thead>\n    <tr style=\"text-align: right;\">\n      <th></th>\n      <th>Name</th>\n      <th>HEX</th>\n      <th>RGB</th>\n    </tr>\n  </thead>\n  <tbody>\n    <tr>\n      <th>0</th>\n      <td>False</td>\n      <td>False</td>\n      <td>False</td>\n    </tr>\n    <tr>\n      <th>1</th>\n      <td>True</td>\n      <td>False</td>\n      <td>False</td>\n    </tr>\n    <tr>\n      <th>2</th>\n      <td>False</td>\n      <td>False</td>\n      <td>False</td>\n    </tr>\n    <tr>\n      <th>3</th>\n      <td>False</td>\n      <td>False</td>\n      <td>False</td>\n    </tr>\n    <tr>\n      <th>4</th>\n      <td>False</td>\n      <td>False</td>\n      <td>False</td>\n    </tr>\n    <tr>\n      <th>5</th>\n      <td>False</td>\n      <td>False</td>\n      <td>True</td>\n    </tr>\n    <tr>\n      <th>6</th>\n      <td>False</td>\n      <td>True</td>\n      <td>False</td>\n    </tr>\n    <tr>\n      <th>7</th>\n      <td>False</td>\n      <td>False</td>\n      <td>False</td>\n    </tr>\n    <tr>\n      <th>8</th>\n      <td>False</td>\n      <td>False</td>\n      <td>False</td>\n    </tr>\n    <tr>\n      <th>9</th>\n      <td>True</td>\n      <td>False</td>\n      <td>False</td>\n    </tr>\n    <tr>\n      <th>10</th>\n      <td>False</td>\n      <td>False</td>\n      <td>False</td>\n    </tr>\n    <tr>\n      <th>11</th>\n      <td>False</td>\n      <td>False</td>\n      <td>False</td>\n    </tr>\n    <tr>\n      <th>12</th>\n      <td>False</td>\n      <td>False</td>\n      <td>False</td>\n    </tr>\n    <tr>\n      <th>13</th>\n      <td>False</td>\n      <td>False</td>\n      <td>False</td>\n    </tr>\n    <tr>\n      <th>14</th>\n      <td>False</td>\n      <td>False</td>\n      <td>False</td>\n    </tr>\n    <tr>\n      <th>15</th>\n      <td>False</td>\n      <td>False</td>\n      <td>False</td>\n    </tr>\n    <tr>\n      <th>16</th>\n      <td>False</td>\n      <td>False</td>\n      <td>False</td>\n    </tr>\n    <tr>\n      <th>17</th>\n      <td>False</td>\n      <td>True</td>\n      <td>False</td>\n    </tr>\n    <tr>\n      <th>18</th>\n      <td>False</td>\n      <td>False</td>\n      <td>True</td>\n    </tr>\n    <tr>\n      <th>19</th>\n      <td>False</td>\n      <td>False</td>\n      <td>False</td>\n    </tr>\n    <tr>\n      <th>20</th>\n      <td>False</td>\n      <td>False</td>\n      <td>False</td>\n    </tr>\n    <tr>\n      <th>21</th>\n      <td>True</td>\n      <td>False</td>\n      <td>False</td>\n    </tr>\n    <tr>\n      <th>22</th>\n      <td>True</td>\n      <td>False</td>\n      <td>False</td>\n    </tr>\n    <tr>\n      <th>23</th>\n      <td>False</td>\n      <td>False</td>\n      <td>False</td>\n    </tr>\n    <tr>\n      <th>24</th>\n      <td>False</td>\n      <td>False</td>\n      <td>False</td>\n    </tr>\n    <tr>\n      <th>25</th>\n      <td>False</td>\n      <td>False</td>\n      <td>False</td>\n    </tr>\n    <tr>\n      <th>26</th>\n      <td>False</td>\n      <td>False</td>\n      <td>False</td>\n    </tr>\n    <tr>\n      <th>27</th>\n      <td>False</td>\n      <td>False</td>\n      <td>False</td>\n    </tr>\n    <tr>\n      <th>28</th>\n      <td>False</td>\n      <td>True</td>\n      <td>False</td>\n    </tr>\n    <tr>\n      <th>29</th>\n      <td>False</td>\n      <td>False</td>\n      <td>True</td>\n    </tr>\n    <tr>\n      <th>30</th>\n      <td>False</td>\n      <td>False</td>\n      <td>False</td>\n    </tr>\n    <tr>\n      <th>31</th>\n      <td>False</td>\n      <td>False</td>\n      <td>False</td>\n    </tr>\n    <tr>\n      <th>32</th>\n      <td>False</td>\n      <td>False</td>\n      <td>False</td>\n    </tr>\n    <tr>\n      <th>33</th>\n      <td>False</td>\n      <td>False</td>\n      <td>False</td>\n    </tr>\n    <tr>\n      <th>34</th>\n      <td>True</td>\n      <td>False</td>\n      <td>False</td>\n    </tr>\n    <tr>\n      <th>35</th>\n      <td>True</td>\n      <td>False</td>\n      <td>False</td>\n    </tr>\n    <tr>\n      <th>36</th>\n      <td>False</td>\n      <td>False</td>\n      <td>False</td>\n    </tr>\n    <tr>\n      <th>37</th>\n      <td>False</td>\n      <td>False</td>\n      <td>False</td>\n    </tr>\n    <tr>\n      <th>38</th>\n      <td>False</td>\n      <td>False</td>\n      <td>False</td>\n    </tr>\n  </tbody>\n</table>\n</div>"
          },
          "metadata": {}
        }
      ],
      "execution_count": 23
    },
    {
      "cell_type": "code",
      "source": "# checking total no.of NULL values\nprint(\"Total no of NULL values by-col\")\ndf.isnull().sum()",
      "metadata": {
        "trusted": true
      },
      "outputs": [
        {
          "name": "stdout",
          "text": "Total no of NULL values by-col\n",
          "output_type": "stream"
        },
        {
          "execution_count": 24,
          "output_type": "execute_result",
          "data": {
            "text/plain": "Name    6\nHEX     3\nRGB     3\ndtype: int64"
          },
          "metadata": {}
        }
      ],
      "execution_count": 24
    },
    {
      "cell_type": "code",
      "source": "# checking total no of NULL values in data\nprint(\"total count of NULL values in entire data\") \ndf.isnull().sum().sum()",
      "metadata": {
        "trusted": true
      },
      "outputs": [
        {
          "name": "stdout",
          "text": "total count of NULL values in entire data\n",
          "output_type": "stream"
        },
        {
          "execution_count": 25,
          "output_type": "execute_result",
          "data": {
            "text/plain": "12"
          },
          "metadata": {}
        }
      ],
      "execution_count": 25
    },
    {
      "cell_type": "code",
      "source": "# data amnipulation operations - filtering\nfiltered_data = df[df['Name'] == 'Black']\nfiltered_data",
      "metadata": {
        "trusted": true
      },
      "outputs": [
        {
          "execution_count": 26,
          "output_type": "execute_result",
          "data": {
            "text/plain": "    Name      HEX         RGB\n3  Black  #000000  rgb(0,0,0)",
            "text/html": "<div>\n<style scoped>\n    .dataframe tbody tr th:only-of-type {\n        vertical-align: middle;\n    }\n\n    .dataframe tbody tr th {\n        vertical-align: top;\n    }\n\n    .dataframe thead th {\n        text-align: right;\n    }\n</style>\n<table border=\"1\" class=\"dataframe\">\n  <thead>\n    <tr style=\"text-align: right;\">\n      <th></th>\n      <th>Name</th>\n      <th>HEX</th>\n      <th>RGB</th>\n    </tr>\n  </thead>\n  <tbody>\n    <tr>\n      <th>3</th>\n      <td>Black</td>\n      <td>#000000</td>\n      <td>rgb(0,0,0)</td>\n    </tr>\n  </tbody>\n</table>\n</div>"
          },
          "metadata": {}
        }
      ],
      "execution_count": 26
    },
    {
      "cell_type": "code",
      "source": "# data manipulation operations - sorting\nsorted_data = df.sort_values(by='RGB')\nsorted_data",
      "metadata": {
        "trusted": true
      },
      "outputs": [
        {
          "execution_count": 27,
          "output_type": "execute_result",
          "data": {
            "text/plain": "             Name      HEX               RGB\n3           Black  #000000        rgb(0,0,0)\n4            Blue  #0000FF      rgb(0,0,100)\n23      Navy Blue  #000080       rgb(0,0,50)\n9             NaN  #00008B       rgb(0,0,55)\n19           Lime  #000000      rgb(0,100,0)\n13          Green  #00FF00      rgb(0,100,0)\n8            Cyan  #00FFFF    rgb(0,100,100)\n0            Aqua  #00FFFF    rgb(0,100,100)\n10  Deep Sky Blue  #000000     rgb(0,75,100)\n22            NaN  #191970     rgb(10,10,44)\n20        Magenta  #FF00FF    rgb(100,0,100)\n38         Yellow  #000000    rgb(100,100,0)\n37          White  #FFFFFF  rgb(100,100,100)\n15          Ivory  #FFFFF0   rgb(100,100,94)\n25         Orange  #000000     rgb(100,65,0)\n26           Pink  #FFC0CB    rgb(100,75,80)\n11           Gold  #FFD700     rgb(100,84,0)\n33           Snow  #FFFAFA    rgb(100,98,98)\n30     Royal Blue  #4169E1     rgb(25,41,88)\n34            NaN  #4682B4     rgb(27,51,71)\n14         Indigo  #000000      rgb(29,0,51)\n32     Slate Gray  #708090     rgb(44,50,56)\n1             NaN  #7FFFD4    rgb(50,100,83)\n24          Olive  #808000      rgb(50,50,0)\n31       Sky Blue  #000000     rgb(53,81,92)\n28         Purple      NaN     rgb(63,13,94)\n21            NaN  #B03060     rgb(69,19,38)\n27    Powder Blue  #B0E0E6     rgb(69,88,90)\n12           Gray  #BEBEBE     rgb(75,75,75)\n6       Chocolate      NaN     rgb(82,41,12)\n35            NaN  #D2B48C     rgb(82,71,55)\n7         Crimson  #000000      rgb(86,8,24)\n17       Lavender      NaN     rgb(90,90,98)\n36         Violet  #EE82EE     rgb(93,51,93)\n16          Khaki  #F0E68C     rgb(94,90,55)\n2           Beige  #F5F5DC     rgb(96,96,86)\n5           Brown  #A52A2A               NaN\n18     Light Blue  #ADD8E6               NaN\n29            Red  #000000               NaN",
            "text/html": "<div>\n<style scoped>\n    .dataframe tbody tr th:only-of-type {\n        vertical-align: middle;\n    }\n\n    .dataframe tbody tr th {\n        vertical-align: top;\n    }\n\n    .dataframe thead th {\n        text-align: right;\n    }\n</style>\n<table border=\"1\" class=\"dataframe\">\n  <thead>\n    <tr style=\"text-align: right;\">\n      <th></th>\n      <th>Name</th>\n      <th>HEX</th>\n      <th>RGB</th>\n    </tr>\n  </thead>\n  <tbody>\n    <tr>\n      <th>3</th>\n      <td>Black</td>\n      <td>#000000</td>\n      <td>rgb(0,0,0)</td>\n    </tr>\n    <tr>\n      <th>4</th>\n      <td>Blue</td>\n      <td>#0000FF</td>\n      <td>rgb(0,0,100)</td>\n    </tr>\n    <tr>\n      <th>23</th>\n      <td>Navy Blue</td>\n      <td>#000080</td>\n      <td>rgb(0,0,50)</td>\n    </tr>\n    <tr>\n      <th>9</th>\n      <td>NaN</td>\n      <td>#00008B</td>\n      <td>rgb(0,0,55)</td>\n    </tr>\n    <tr>\n      <th>19</th>\n      <td>Lime</td>\n      <td>#000000</td>\n      <td>rgb(0,100,0)</td>\n    </tr>\n    <tr>\n      <th>13</th>\n      <td>Green</td>\n      <td>#00FF00</td>\n      <td>rgb(0,100,0)</td>\n    </tr>\n    <tr>\n      <th>8</th>\n      <td>Cyan</td>\n      <td>#00FFFF</td>\n      <td>rgb(0,100,100)</td>\n    </tr>\n    <tr>\n      <th>0</th>\n      <td>Aqua</td>\n      <td>#00FFFF</td>\n      <td>rgb(0,100,100)</td>\n    </tr>\n    <tr>\n      <th>10</th>\n      <td>Deep Sky Blue</td>\n      <td>#000000</td>\n      <td>rgb(0,75,100)</td>\n    </tr>\n    <tr>\n      <th>22</th>\n      <td>NaN</td>\n      <td>#191970</td>\n      <td>rgb(10,10,44)</td>\n    </tr>\n    <tr>\n      <th>20</th>\n      <td>Magenta</td>\n      <td>#FF00FF</td>\n      <td>rgb(100,0,100)</td>\n    </tr>\n    <tr>\n      <th>38</th>\n      <td>Yellow</td>\n      <td>#000000</td>\n      <td>rgb(100,100,0)</td>\n    </tr>\n    <tr>\n      <th>37</th>\n      <td>White</td>\n      <td>#FFFFFF</td>\n      <td>rgb(100,100,100)</td>\n    </tr>\n    <tr>\n      <th>15</th>\n      <td>Ivory</td>\n      <td>#FFFFF0</td>\n      <td>rgb(100,100,94)</td>\n    </tr>\n    <tr>\n      <th>25</th>\n      <td>Orange</td>\n      <td>#000000</td>\n      <td>rgb(100,65,0)</td>\n    </tr>\n    <tr>\n      <th>26</th>\n      <td>Pink</td>\n      <td>#FFC0CB</td>\n      <td>rgb(100,75,80)</td>\n    </tr>\n    <tr>\n      <th>11</th>\n      <td>Gold</td>\n      <td>#FFD700</td>\n      <td>rgb(100,84,0)</td>\n    </tr>\n    <tr>\n      <th>33</th>\n      <td>Snow</td>\n      <td>#FFFAFA</td>\n      <td>rgb(100,98,98)</td>\n    </tr>\n    <tr>\n      <th>30</th>\n      <td>Royal Blue</td>\n      <td>#4169E1</td>\n      <td>rgb(25,41,88)</td>\n    </tr>\n    <tr>\n      <th>34</th>\n      <td>NaN</td>\n      <td>#4682B4</td>\n      <td>rgb(27,51,71)</td>\n    </tr>\n    <tr>\n      <th>14</th>\n      <td>Indigo</td>\n      <td>#000000</td>\n      <td>rgb(29,0,51)</td>\n    </tr>\n    <tr>\n      <th>32</th>\n      <td>Slate Gray</td>\n      <td>#708090</td>\n      <td>rgb(44,50,56)</td>\n    </tr>\n    <tr>\n      <th>1</th>\n      <td>NaN</td>\n      <td>#7FFFD4</td>\n      <td>rgb(50,100,83)</td>\n    </tr>\n    <tr>\n      <th>24</th>\n      <td>Olive</td>\n      <td>#808000</td>\n      <td>rgb(50,50,0)</td>\n    </tr>\n    <tr>\n      <th>31</th>\n      <td>Sky Blue</td>\n      <td>#000000</td>\n      <td>rgb(53,81,92)</td>\n    </tr>\n    <tr>\n      <th>28</th>\n      <td>Purple</td>\n      <td>NaN</td>\n      <td>rgb(63,13,94)</td>\n    </tr>\n    <tr>\n      <th>21</th>\n      <td>NaN</td>\n      <td>#B03060</td>\n      <td>rgb(69,19,38)</td>\n    </tr>\n    <tr>\n      <th>27</th>\n      <td>Powder Blue</td>\n      <td>#B0E0E6</td>\n      <td>rgb(69,88,90)</td>\n    </tr>\n    <tr>\n      <th>12</th>\n      <td>Gray</td>\n      <td>#BEBEBE</td>\n      <td>rgb(75,75,75)</td>\n    </tr>\n    <tr>\n      <th>6</th>\n      <td>Chocolate</td>\n      <td>NaN</td>\n      <td>rgb(82,41,12)</td>\n    </tr>\n    <tr>\n      <th>35</th>\n      <td>NaN</td>\n      <td>#D2B48C</td>\n      <td>rgb(82,71,55)</td>\n    </tr>\n    <tr>\n      <th>7</th>\n      <td>Crimson</td>\n      <td>#000000</td>\n      <td>rgb(86,8,24)</td>\n    </tr>\n    <tr>\n      <th>17</th>\n      <td>Lavender</td>\n      <td>NaN</td>\n      <td>rgb(90,90,98)</td>\n    </tr>\n    <tr>\n      <th>36</th>\n      <td>Violet</td>\n      <td>#EE82EE</td>\n      <td>rgb(93,51,93)</td>\n    </tr>\n    <tr>\n      <th>16</th>\n      <td>Khaki</td>\n      <td>#F0E68C</td>\n      <td>rgb(94,90,55)</td>\n    </tr>\n    <tr>\n      <th>2</th>\n      <td>Beige</td>\n      <td>#F5F5DC</td>\n      <td>rgb(96,96,86)</td>\n    </tr>\n    <tr>\n      <th>5</th>\n      <td>Brown</td>\n      <td>#A52A2A</td>\n      <td>NaN</td>\n    </tr>\n    <tr>\n      <th>18</th>\n      <td>Light Blue</td>\n      <td>#ADD8E6</td>\n      <td>NaN</td>\n    </tr>\n    <tr>\n      <th>29</th>\n      <td>Red</td>\n      <td>#000000</td>\n      <td>NaN</td>\n    </tr>\n  </tbody>\n</table>\n</div>"
          },
          "metadata": {}
        }
      ],
      "execution_count": 27
    },
    {
      "cell_type": "code",
      "source": "# manipulate data frames\ndata = df.to_csv(\"colors.csv\", index = False)\nprint(data)",
      "metadata": {
        "trusted": true
      },
      "outputs": [
        {
          "name": "stdout",
          "text": "None\n",
          "output_type": "stream"
        }
      ],
      "execution_count": 28
    },
    {
      "cell_type": "code",
      "source": "# removing duplicate data\ndf.drop(axis = 1, index = 20)\ndata_drop = df.drop_duplicates(subset = ['HEX'])\nprint(data_drop)",
      "metadata": {
        "trusted": true
      },
      "outputs": [
        {
          "name": "stdout",
          "text": "           Name      HEX               RGB\n0          Aqua  #00FFFF    rgb(0,100,100)\n1           NaN  #7FFFD4    rgb(50,100,83)\n2         Beige  #F5F5DC     rgb(96,96,86)\n3         Black  #000000        rgb(0,0,0)\n4          Blue  #0000FF      rgb(0,0,100)\n5         Brown  #A52A2A               NaN\n6     Chocolate      NaN     rgb(82,41,12)\n9           NaN  #00008B       rgb(0,0,55)\n11         Gold  #FFD700     rgb(100,84,0)\n12         Gray  #BEBEBE     rgb(75,75,75)\n13        Green  #00FF00      rgb(0,100,0)\n15        Ivory  #FFFFF0   rgb(100,100,94)\n16        Khaki  #F0E68C     rgb(94,90,55)\n18   Light Blue  #ADD8E6               NaN\n20      Magenta  #FF00FF    rgb(100,0,100)\n21          NaN  #B03060     rgb(69,19,38)\n22          NaN  #191970     rgb(10,10,44)\n23    Navy Blue  #000080       rgb(0,0,50)\n24        Olive  #808000      rgb(50,50,0)\n26         Pink  #FFC0CB    rgb(100,75,80)\n27  Powder Blue  #B0E0E6     rgb(69,88,90)\n30   Royal Blue  #4169E1     rgb(25,41,88)\n32   Slate Gray  #708090     rgb(44,50,56)\n33         Snow  #FFFAFA    rgb(100,98,98)\n34          NaN  #4682B4     rgb(27,51,71)\n35          NaN  #D2B48C     rgb(82,71,55)\n36       Violet  #EE82EE     rgb(93,51,93)\n37        White  #FFFFFF  rgb(100,100,100)\n",
          "output_type": "stream"
        }
      ],
      "execution_count": 32
    }
  ]
}